{
 "cells": [
  {
   "cell_type": "markdown",
   "metadata": {},
   "source": [
    "# ����������� ������� ������ ������\n",
    "\n",
    "**��������:** � ������ ������� ��������� ��������� - ���������� ����� �������� (������ 50), ������� ��������� �������� ���� � ������� 3 � ��������� �������� `random_state` � ��������� ������. ���������� ������ �� ����������, �� ������ �� ����� ��������. ����� ���������� �������� � ������� `gbm_predict`.\n",
    "\n",
    "� ���� ������� ����� �������������� ������� `boston` �� `sklearn.datasets`. �������� ��������� 25% �������� ��� �������� ��������, �������� `X` � `y` �� `X_train`, `y_train` � `X_test`, `y_test`.\n",
    "\n",
    "����� ������� ����� ����������� ������� ������� ������������ �������� ��� �������������� ��������� ��� ������ ������������ ������� ������."
   ]
  },
  {
   "cell_type": "code",
   "execution_count": null,
   "metadata": {},
   "outputs": [
    {
     "name": "stdout",
     "output_type": "stream",
     "text": [
      "Populating the interactive namespace from numpy and matplotlib\n"
     ]
    }
   ],
   "source": [
    "%pylab inline\n",
    "from sklearn.datasets import load_boston\n",
    "from sklearn.cross_validation import cross_val_score\n",
    "from sklearn.tree import DecisionTreeRegressor\n",
    "from sklearn.metrics import mean_squared_error\n",
    "from sklearn.linear_model import LinearRegression\n",
    "import numpy as np\n",
    "import xgboost as xgb\n",
    "X, y = load_boston(return_X_y=True)\n",
    "X_train, X_test, y_train, y_test = (X[:int(0.75*len(X))], X[int(0.75*len(X)):],\n",
    "                                                                        y[:int(0.75*len(X))], y[int(0.75*len(X)):])"
   ]
  },
  {
   "cell_type": "markdown",
   "metadata": {},
   "source": [
    "## ������� 1\n",
    "\n",
    "��� �� ��� ������ �� ������, **�������** - ��� ����� ���������� ���������� ������� ���������� � ������� ����������������� ���������� � ������� ���������� ������ ��������� � ��������� �������������. \n",
    "\n",
    "����������� ������� ������� ������ ����� �������� ���, ����� �� ��������� ������������ ������ �� ������� ���������� �� ��������� �������. ���������� ����������� ������� ������� ������������ ������, � ����������� �������� �� ����������� ����������, ������� �������� � ����������� ������������� ������.\n",
    "\n",
    "�������������� �������� �� ������, �������� ������ �� ��������� �������, �� ������� ����� ������� ����� �������� (���������� ��� ���� ���� ����� �������� ����������� �������� �� ������), � �������� ������� �� ������, ���� ������� ������ `L` - ������� ���������� ������ ���������� `a(x)` �� ����������� ������ `y` �� ������ `x`.\n",
    "\n",
    "���� �� ����� �� ������� ����������� ��������������, ��� ������� ������� ����������� ������������ ������� (������� �������� ����� � ���������) � ������� ����������������� ������� �������. ����� ����������������� �������� � ��� ��������� ��������� 2 � �.�. ��� ��� ����� ��������� �������� �����������, � ������� ����� �������� ����� ������� ��������, ������������� ���� ��������� ��� ���������� ���������� ���������."
   ]
  },
  {
   "cell_type": "markdown",
   "metadata": {
    "collapsed": true
   },
   "source": [
    "$s_i = -(a(x_i) - y_i)$"
   ]
  },
  {
   "cell_type": "markdown",
   "metadata": {},
   "source": [
    "## ������� 2\n",
    "\n",
    "�������� ������ ��� �������� `DecisionTreeRegressor` (����� �� ������������ � �������� ������� ����������) � ��� ������������ ����� (��� ����� ������������ ����� �������� �����������). \n",
    "\n",
    "� ����� �� ������� ��������������� 50 �������� �������� � ����������� `max_depth=5` � `random_state=42` (��������� ��������� - �� ���������). � �������� �������� ������������ ����� � ������ ��������, �� �� ����������� 50, ����� �������� ������� �������, � ��� ���� ����� ���������� (�.�. ���� ������� �����������, ��� �������� �����). ������ ������ ������ ��������� �� ����� � ��� �� ��������� ��������, �� ������, ������� ������ �������������� ������, ����� �������� � ������������ � ���������� � ������� 1 ��������. \n",
    "\n",
    "���������� ��� ������ ������ ����� ����������� ������ 0.9. ������ ��������� �������� ����������� ����������� ������� - ������� 0.05 ��� 0.1, �� �.�. � ����� ������� ������� �� ����������� �������� ����� ����� 50 ��������, ������� ��� ������ ��� ��������.\n",
    "\n",
    "� �������� ���������� �������� ��� ����������� �������, ������� ����� ��������� ������� ����������� �� ������ ������ ���������� �������� �� ������� `X`:\n",
    "\n",
    "```\n",
    "def gbm_predict(X):\n",
    "    return [sum([coeff * algo.predict([x])[0] for algo, coeff in zip(base_algorithms_list, coefficients_list)]) for x in X]\n",
    "(�������, ��� base_algorithms_list - ������ � �������� �����������, coefficients_list - ������ � �������������� ����� �����������)\n",
    "```\n",
    "\n",
    "��� �� ������� ������� ��� �������� ������� �� ����������� ������� � ������� �������� ������ ������ ��������� � ������� `mean_squared_error` � `sklearn.metrics`. \n",
    "\n",
    "��������� ��������� � ������� 0.5, ����� �������� `RMSE`. ���������� �������� `RMSE` � **����� � ������ 2**."
   ]
  },
  {
   "cell_type": "code",
   "execution_count": 156,
   "metadata": {},
   "outputs": [
    {
     "data": {
      "text/plain": [
       "5.476650974168954"
      ]
     },
     "execution_count": 156,
     "metadata": {},
     "output_type": "execute_result"
    }
   ],
   "source": [
    "algos = []\n",
    "coefs = [0.9 for i in range(50)]\n",
    "def gbm_predict(X):\n",
    "    return [sum([coeff * algo.predict([x])[0] for algo, coeff in zip(algos, coefs)]) for x in X]\n",
    "\n",
    "\n",
    "def gbm_fit():\n",
    "    agrad =  y_train[:]\n",
    "    for i in range(50):\n",
    "        dt = DecisionTreeRegressor(max_depth=5, random_state=42)\n",
    "        dt.fit(X_train, agrad)\n",
    "        algos.append(dt)\n",
    "        y_p = gbm_predict(X_train)\n",
    "        agrad = np.array([-(y_p[j]-y_train[j]) for j in range(len(X_train))])[:]\n",
    "\n",
    "\n",
    "gbm_fit()\n",
    "mean_squared_error(y_true=y_test, y_pred=gbm_predict(X_test))**0.5"
   ]
  },
  {
   "cell_type": "markdown",
   "metadata": {},
   "source": [
    "## ������� 3\n",
    "\n",
    "��� ����� ����� ����������, ��� �������� � ���������� �����, ������ �������� ������ ������ �� ��������� ������� �������� ������� �����, ������������ ����� �������. \n",
    "\n",
    "���������� ��������� ��� ����� ������ ���������� � ������ ��������� ��������� �� ������� `0.9 / (1.0 + i)`, ��� `i` - ����� �������� (�� 0 �� 49). ����������� �������� ������ ��������� ��� **����� � ������ 3**. \n",
    "\n",
    "� ���������� ����� ����������� ��������� ��������� ������ ����: ��� ������ ������ ��������, �������� ����������� ����� ��� ��������� ������� ����������� ����� �������, ����� ���������� �� ���������� ������� ���� �����������. �� �� ����� ���������� ��� ����������� ��� ��� ���������� �������, �� ����������� ����������� ����������� � ����� ���������� � ����������� �� ��� ������ ��� ����."
   ]
  },
  {
   "cell_type": "code",
   "execution_count": 157,
   "metadata": {},
   "outputs": [
    {
     "data": {
      "text/plain": [
       "4.810893280258557"
      ]
     },
     "execution_count": 157,
     "metadata": {},
     "output_type": "execute_result"
    }
   ],
   "source": [
    "algos = []\n",
    "coefs = [0.9 / (1.0 + i) for i in range(50)]\n",
    "def gbm_predict(X):\n",
    "    return [sum([coeff * algo.predict([x])[0] for algo, coeff in zip(algos, coefs)]) for x in X]\n",
    "\n",
    "\n",
    "def gbm_fit():\n",
    "    agrad =  y_train[:]\n",
    "    for i in range(50):\n",
    "        dt = DecisionTreeRegressor(max_depth=5, random_state=42)\n",
    "        dt.fit(X_train, agrad)\n",
    "        algos.append(dt)\n",
    "        y_p = gbm_predict(X_train)\n",
    "        agrad = np.array([-(y_p[j]-y_train[j]) for j in range(len(X_train))])[:]\n",
    "\n",
    "\n",
    "gbm_fit()\n",
    "mean_squared_error(y_true=y_test, y_pred=gbm_predict(X_test))**0.5"
   ]
  },
  {
   "cell_type": "markdown",
   "metadata": {},
   "source": [
    "## ������� 4\n",
    "\n",
    "������������� ���� ����� - ����������� ������� ��� ��������� - ����� ��������� � �������� ��������. �� ����������� ��� � ����� ���������� `sklearn`, ��� � � ��������� ���������� `XGBoost`, ������� ����� ���� ����������� ���������. �� �������� `XGBoost` �������� ������� ����� `GradientBoostingRegressor` �� `sklearn`, �� ��� ����� ������� �� ������ ������������ ����� ����������. \n",
    "\n",
    "����������, ������������� �� ����������� ������� � ������ ����� �������� (� ���������, ������), � ����� � ������ ������� ��������. �� ������ ���������� �������� ����� ������ ������ ���������� �� ����������� ���� ����������� � ������� ����������� ������ (��� ����� **����� � �.4**):\n",
    "\n",
    "    1. � ����������� ����� ��������, ������� � ���������� �������, �������� ������ ������������ �������� �� �������� �����������.\n",
    "\n",
    "    2. � ����������� ����� ��������, ������� � ���������� �������, ����������� ������� �������� �������������.\n",
    "\n",
    "    3. � ������ ������� ��������, ������� � ���������� �������, �������� ������ ������������ �������� �� �������� ������� �������� ����������.\n",
    "\n",
    "    4. � ������ ������� ��������, ������� � ���������� �������, �������� ������ ������������ �������� ��������� ����������� ����������"
   ]
  },
  {
   "cell_type": "code",
   "execution_count": 169,
   "metadata": {},
   "outputs": [
    {
     "data": {
      "image/png": "[encoded data removed]",
      "text/plain": [
       "<matplotlib.figure.Figure at 0x7efbe9bca5d0>"
      ]
     },
     "metadata": {},
     "output_type": "display_data"
    },
    {
     "data": {
      "image/png": "[encoded data removed]",
      "text/plain": [
       "<matplotlib.figure.Figure at 0x7efbdd616190>"
      ]
     },
     "metadata": {},
     "output_type": "display_data"
    },
    {
     "name": "stdout",
     "output_type": "stream",
     "text": [
      "CPU times: user 2.37 s, sys: 2.2 s, total: 4.57 s\n",
      "Wall time: 6.28 s\n"
     ]
    }
   ],
   "source": [
    "%%time\n",
    "n_trees = [1] + range(10, 55, 5)\n",
    "max_depths = range(1, 100, 5)\n",
    "xgb_scoring = []\n",
    "for n_tree in n_trees:\n",
    "    estimator = xgb.XGBRegressor(learning_rate=0.1, max_depth=5, n_estimators=n_tree,\n",
    "                                 min_child_weight=3)\n",
    "    score = cross_val_score(estimator, X, y, cv = 3, n_jobs=8)    \n",
    "    xgb_scoring.append(score)\n",
    "xgb_scoring = np.asmatrix(xgb_scoring)\n",
    "pylab.plot(n_trees, xgb_scoring.mean(axis = 1), marker='.')\n",
    "pylab.grid(True)\n",
    "pylab.xlabel('n_trees')\n",
    "pylab.ylabel('score')\n",
    "pylab.show()\n",
    "\n",
    "xgb_scoring = []\n",
    "for max_depth in max_depths:\n",
    "    estimator = xgb.XGBRegressor(learning_rate=0.1, max_depth=max_depth, n_estimators=30,\n",
    "                                 min_child_weight=3)\n",
    "    score = cross_val_score(estimator, X, y, cv = 3, n_jobs=8)    \n",
    "    xgb_scoring.append(score)\n",
    "xgb_scoring = np.asmatrix(xgb_scoring)\n",
    "pylab.plot(max_depths, xgb_scoring.mean(axis = 1), marker='.')\n",
    "pylab.grid(True)\n",
    "pylab.xlabel('max_depth')\n",
    "pylab.ylabel('score')\n",
    "pylab.show()"
   ]
  },
  {
   "cell_type": "markdown",
   "metadata": {},
   "source": [
    "## ������� 5\n",
    "\n",
    "�������� ���������� � ������� ������������ �������� �������� � ��������� ������ �������� ���������. \n",
    "\n",
    "��� ����� ������� `LinearRegression` �� `sklearn.linear_model` (� ����������� �� ���������) �� ��������� ������� � ������� ��� ��������� ����������� ��������� �� �������� ������� `RMSE`. ���������� �������� - ����� � **������ 5**. \n",
    "\n",
    "� ������ ������� �������� ������ ������� ������ ������ ���� ��������� ����, �� �� ����� ��������, ��� ��� ������ �� ������. � �������� � ����� ����� �� ��� ��������� ������ �������� ��������."
   ]
  },
  {
   "cell_type": "code",
   "execution_count": 171,
   "metadata": {},
   "outputs": [
    {
     "data": {
      "text/plain": [
       "8.270468034938046"
      ]
     },
     "execution_count": 171,
     "metadata": {},
     "output_type": "execute_result"
    }
   ],
   "source": [
    "lr = LinearRegression()\n",
    "lr.fit(X_train, y_train)\n",
    "mean_squared_error(y_true=y_test, y_pred=lr.predict(X_test))**0.5"
   ]
  },
  {
   "cell_type": "code",
   "execution_count": null,
   "metadata": {},
   "outputs": [],
   "source": []
  }
 ],
 "metadata": {
  "kernelspec": {
   "display_name": "Python 3",
   "language": "python",
   "name": "python3"
  },
  "language_info": {
   "codemirror_mode": {
    "name": "ipython",
    "version": 2
   },
   "file_extension": ".py",
   "mimetype": "text/x-python",
   "name": "python",
   "nbconvert_exporter": "python",
   "pygments_lexer": "ipython2",
   "version": "2.7.12"
  }
 },
 "nbformat": 4,
 "nbformat_minor": 1
}
