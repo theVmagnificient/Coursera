{
 "cells": [
  {
   "cell_type": "markdown",
   "metadata": {},
   "source": [
    "# �������� ��������� � �������������� ����������� �����"
   ]
  },
  {
   "cell_type": "markdown",
   "metadata": {},
   "source": [
    "������� �������� �� ���������� ������ �� �������� ��������� � ������������ ������. �� ������ �������������� ������� �������� � ����������� �� ������ �� ���������� � ������� �� TV, � ������� � �� �����."
   ]
  },
  {
   "cell_type": "markdown",
   "metadata": {},
   "source": [
    "## �� ���������:\n",
    "- ������ ������ �������������� �������� ���������\n",
    "- ������������� �������������� ����������� ����� ��� �� ���������\n",
    "- ������ ������ �������� ��������� ������������"
   ]
  },
  {
   "cell_type": "markdown",
   "metadata": {},
   "source": [
    "## ��������\n",
    "�������� ��������� - ���� �� �������� ������ ��������� ������� ��������� ��������, ����������� �������������� �������� ��������������� �������� � ���� �������� ���������� ������ ��������� � ����������� - ������ ������. ����������� (� ������ ������������� ���������� ����������� ������) ��������� �������� ��������� ����� ����� ������������ � ������� ����������� ��������� ��� �������� � ������� ������� �����������.  "
   ]
  },
  {
   "cell_type": "markdown",
   "metadata": {},
   "source": [
    "�������� ��������� ���������� ������� ���������� �������� - ������������������ ������. �� ����� �������� � ��������, ���������� 3 ��������. ��� ��������� ���������� (�����) ������ �������� ��������� ������:\n",
    "$$\\Large \\frac{1}{\\ell}\\sum_{i=1}^\\ell{{((w_0 + w_1x_{i1} + w_2x_{i2} +  w_3x_{i3}) - y_i)}^2} \\rightarrow \\min_{w_0, w_1, w_2, w_3},$$\n",
    "��� $x_{i1}, x_{i2}, x_{i3}$ - �������� ��������� $i$-�� �������, $y_i$ - �������� �������� �������� $i$-�� �������, $\\ell$ - ����� �������� � ��������� �������."
   ]
  },
  {
   "cell_type": "markdown",
   "metadata": {},
   "source": [
    "## ����������� �����\n",
    "��������� $w_0, w_1, w_2, w_3$, �� ������� �������������� ������������������ ������, ����� �������� �������� � ������� ������������ ������.\n",
    "����������� ��� ��� ����� ����� ��������� ��������� �������:\n",
    "$$\\Large w_0 \\leftarrow w_0 - \\frac{2\\eta}{\\ell} \\sum_{i=1}^\\ell{{((w_0 + w_1x_{i1} + w_2x_{i2} +  w_3x_{i3}) - y_i)}}$$\n",
    "$$\\Large w_j \\leftarrow w_j - \\frac{2\\eta}{\\ell} \\sum_{i=1}^\\ell{{x_{ij}((w_0 + w_1x_{i1} + w_2x_{i2} +  w_3x_{i3}) - y_i)}},\\ j \\in \\{1,2,3\\}$$\n",
    "����� $\\eta$ - ��������, ��� ������������ ������."
   ]
  },
  {
   "cell_type": "markdown",
   "metadata": {},
   "source": [
    "## �������������� ����������� �����\n",
    "�������� ������������ ������, ���������� ����, � ���, ��� �� ������� �������� ������� �� ������ ���� �������� �� ���� ��������� ������ ����� ���� ����� ������������� ������. \n",
    "� �������������� �������� ������������ ������ �������� ��� ����� ����������� ������ � ������ ������ �������� ������� ������� ��������� �������:\n",
    "$$\\Large w_0 \\leftarrow w_0 - \\frac{2\\eta}{\\ell} {((w_0 + w_1x_{k1} + w_2x_{k2} +  w_3x_{k3}) - y_k)}$$\n",
    "$$\\Large w_j \\leftarrow w_j - \\frac{2\\eta}{\\ell} {x_{kj}((w_0 + w_1x_{k1} + w_2x_{k2} +  w_3x_{k3}) - y_k)},\\ j \\in \\{1,2,3\\},$$\n",
    "��� $k$ - ��������� ������, $k \\in \\{1, \\ldots, \\ell\\}$."
   ]
  },
  {
   "cell_type": "markdown",
   "metadata": {},
   "source": [
    "## ���������� ��������� \n",
    "���������� ������� ����������� ����� $w$ ����� ���� ������� � ������������.\n",
    "�� ����� ����� ����� ������ ����� $w$, ����� ������ $y$, ������������ ������� �������, ��������� ���������� ������� $X$ (��������� �� ���� ��������� �������� ��������� �������, ����� ��������) �� ������ ����� $w$. �� ����, ����� ����������� ��������� ���������:\n",
    "$$\\Large y = Xw$$\n",
    "����������� ����� �� $X^T$ ��������:\n",
    "$$\\Large X^Ty = X^TXw$$\n",
    "��� ������, ��������� ������ ������� $X^TX$ - ����������, � ����� ����� ������� (������ $w$) � ����:\n",
    "$$\\Large w = {(X^TX)}^{-1}X^Ty$$\n",
    "������� ${(X^TX)}^{-1}X^T$ - [*��������������*](https://ru.wikipedia.org/wiki/��������������_�������) ��� ������� $X$. � NumPy ����� ������� ����� ��������� � ������� ������� [numpy.linalg.pinv](http://docs.scipy.org/doc/numpy-1.10.0/reference/generated/numpy.linalg.pinv.html).\n",
    "\n",
    "������, ���������� �������������� ������� - �������� ������������� ������� � ������������ � ������ ������ ������������ ������� $X$ (�������� ��������������������). \n",
    "�� �������� ����� �������� ������ ����� $w$ �������� ���������� ��������� \n",
    "$$\\Large X^TXw = X^Ty$$��� ����� ���� ������� � ������� ������� [numpy.linalg.solve](http://docs.scipy.org/doc/numpy-1.10.1/reference/generated/numpy.linalg.solve.html).\n",
    "\n",
    "�� ��� �� �� �������� ��� ������� ������ $X$ ������� �������� ����������� �����, �������� ��� �������������� ������."
   ]
  },
  {
   "cell_type": "markdown",
   "metadata": {},
   "source": [
    "## ���������� �� ����������"
   ]
  },
  {
   "cell_type": "markdown",
   "metadata": {},
   "source": [
    "� ������ ������� ������� ������� ��� ������ ������� � ��������� ����. �������� ����� �����, ���������� � ���� ������� ����� �������, ����������� �� 3 ������ ����� �������. ���������� ����� ����� ���������� ������� ���� ��������� � ����� �� �������� ������� �� Coursera.org."
   ]
  },
  {
   "cell_type": "code",
   "execution_count": 1,
   "metadata": {
    "collapsed": true
   },
   "outputs": [],
   "source": [
    "def write_answer_to_file(answer, filename):\n",
    "    with open(filename, 'w') as f_out:\n",
    "        f_out.write(str(round(answer, 3)))"
   ]
  },
  {
   "cell_type": "markdown",
   "metadata": {},
   "source": [
    "**1. ��������� ������ �� ����� *advertising.csv* � ������ pandas DataFrame. [�������� ������](http://www-bcf.usc.edu/~gareth/ISL/data.html).**"
   ]
  },
  {
   "cell_type": "code",
   "execution_count": 2,
   "metadata": {
    "collapsed": false
   },
   "outputs": [],
   "source": [
    "import pandas as pd\n",
    "adver_data = pd.read_csv('advertising.csv')"
   ]
  },
  {
   "cell_type": "markdown",
   "metadata": {
    "collapsed": true
   },
   "source": [
    "**���������� �� ������ 5 ������� � �� ���������� ��������� � ���� ������ ������.**"
   ]
  },
  {
   "cell_type": "code",
   "execution_count": 3,
   "metadata": {
    "collapsed": false
   },
   "outputs": [
    {
     "data": {
      "text/html": [
       "<div>\n",
       "<table border=\"1\" class=\"dataframe\">\n",
       "  <thead>\n",
       "    <tr style=\"text-align: right;\">\n",
       "      <th></th>\n",
       "      <th>TV</th>\n",
       "      <th>Radio</th>\n",
       "      <th>Newspaper</th>\n",
       "      <th>Sales</th>\n",
       "    </tr>\n",
       "  </thead>\n",
       "  <tbody>\n",
       "    <tr>\n",
       "      <th>1</th>\n",
       "      <td>230.1</td>\n",
       "      <td>37.8</td>\n",
       "      <td>69.2</td>\n",
       "      <td>22.1</td>\n",
       "    </tr>\n",
       "    <tr>\n",
       "      <th>2</th>\n",
       "      <td>44.5</td>\n",
       "      <td>39.3</td>\n",
       "      <td>45.1</td>\n",
       "      <td>10.4</td>\n",
       "    </tr>\n",
       "    <tr>\n",
       "      <th>3</th>\n",
       "      <td>17.2</td>\n",
       "      <td>45.9</td>\n",
       "      <td>69.3</td>\n",
       "      <td>9.3</td>\n",
       "    </tr>\n",
       "    <tr>\n",
       "      <th>4</th>\n",
       "      <td>151.5</td>\n",
       "      <td>41.3</td>\n",
       "      <td>58.5</td>\n",
       "      <td>18.5</td>\n",
       "    </tr>\n",
       "    <tr>\n",
       "      <th>5</th>\n",
       "      <td>180.8</td>\n",
       "      <td>10.8</td>\n",
       "      <td>58.4</td>\n",
       "      <td>12.9</td>\n",
       "    </tr>\n",
       "  </tbody>\n",
       "</table>\n",
       "</div>"
      ],
      "text/plain": [
       "      TV  Radio  Newspaper  Sales\n",
       "1  230.1   37.8       69.2   22.1\n",
       "2   44.5   39.3       45.1   10.4\n",
       "3   17.2   45.9       69.3    9.3\n",
       "4  151.5   41.3       58.5   18.5\n",
       "5  180.8   10.8       58.4   12.9"
      ]
     },
     "execution_count": 3,
     "metadata": {},
     "output_type": "execute_result"
    }
   ],
   "source": [
    "adver_data.head(5)"
   ]
  },
  {
   "cell_type": "code",
   "execution_count": 4,
   "metadata": {
    "collapsed": false
   },
   "outputs": [],
   "source": [
    "import numpy as np"
   ]
  },
  {
   "cell_type": "markdown",
   "metadata": {},
   "source": [
    "**�������� ������� NumPy *X* �� �������� TV, Radio � Newspaper � *y* - �� ������� Sales. ����������� ������� *values* ������� pandas DataFrame.**"
   ]
  },
  {
   "cell_type": "code",
   "execution_count": 5,
   "metadata": {
    "collapsed": false
   },
   "outputs": [],
   "source": [
    "X = adver_data[['TV', 'Radio', 'Newspaper']].values\n",
    "y = adver_data[['Sales']].values"
   ]
  },
  {
   "cell_type": "markdown",
   "metadata": {},
   "source": [
    "**��������������� ������� ������� *X*, ����� �� ������� �������� ������� �� ���������������� ������� � ������� ��������� �� ����������� ����������. ��� ��������������, ����������� ������ mean � std �������� NumPy (���������� std � Pandas ����� ����������). �������� ��������, ��� � numpy ����� ������� .mean() ��� ���������� ���������� ������� �� ���� ��������� �������, � �� �� ��������, ��� � pandas. ����� ���������� ���������� �� ��������, ���������� ������� �������� axis.**"
   ]
  },
  {
   "cell_type": "code",
   "execution_count": 6,
   "metadata": {
    "collapsed": false
   },
   "outputs": [
    {
     "data": {
      "text/plain": [
       "(array([ 147.0425,   23.264 ,   30.554 ]),\n",
       " array([ 85.63933176,  14.80964564,  21.72410606]))"
      ]
     },
     "execution_count": 6,
     "metadata": {},
     "output_type": "execute_result"
    }
   ],
   "source": [
    "means, stds = np.mean(X, axis=0), np.std(X, axis=0)\n",
    "means, stds"
   ]
  },
  {
   "cell_type": "code",
   "execution_count": 7,
   "metadata": {
    "collapsed": false
   },
   "outputs": [],
   "source": [
    "for num in range(len(X)):\n",
    "    for i in range(0, 3):\n",
    "        X[num][i]=(X[num][i] - means[i])/stds[i]"
   ]
  },
  {
   "cell_type": "markdown",
   "metadata": {},
   "source": [
    "**�������� � ������� *X* ������� �� ������, ��������� ������ *hstack*, *ones* � *reshape* ���������� NumPy. ������ �� ������ ����� ��� ����, ����� �� ������������ �������� ����������� $w_0$ �������� ���������.**"
   ]
  },
  {
   "cell_type": "code",
   "execution_count": 8,
   "metadata": {
    "collapsed": false
   },
   "outputs": [
    {
     "data": {
      "text/plain": [
       "array([ 1.        ,  0.96985227,  0.98152247,  1.77894547])"
      ]
     },
     "execution_count": 8,
     "metadata": {},
     "output_type": "execute_result"
    }
   ],
   "source": [
    "b = np.ones(X.shape[0])\n",
    "d = b.reshape((X.shape[0], 1))\n",
    "X = np.hstack((d, X))\n",
    "X[0]"
   ]
  },
  {
   "cell_type": "markdown",
   "metadata": {},
   "source": [
    "**2. ���������� ������� *mserror* - ������������������ ������ ��������. ��� ��������� ��� ��������� - ������� Series *y* (�������� �������� ��������) � *y\\_pred* (������������� ��������). �� ����������� � ���� ������� ����� - ����� ��� ����� ������������� �������������.**"
   ]
  },
  {
   "cell_type": "code",
   "execution_count": 9,
   "metadata": {
    "collapsed": false
   },
   "outputs": [
    {
     "name": "stdout",
     "output_type": "stream",
     "text": [
      "49.0\n"
     ]
    }
   ],
   "source": [
    "def mserror(y, y_pred):\n",
    "    s, s_pred = pd.Series(y), pd.Series(y_pred)\n",
    "    return float(sum((s-s_pred)**2)/len(y))\n",
    "print mserror([27], [20])"
   ]
  },
  {
   "cell_type": "markdown",
   "metadata": {},
   "source": [
    "**������ ������������������ ������ �������� �������� Sales, ���� ������ ������������� ��������� �������� Sales �� �������� �������? �������� ����� � ���� '1.txt'.**"
   ]
  },
  {
   "cell_type": "code",
   "execution_count": 10,
   "metadata": {
    "collapsed": false
   },
   "outputs": [
    {
     "name": "stdout",
     "output_type": "stream",
     "text": [
      "28.34575\n"
     ]
    }
   ],
   "source": [
    "y_pred=np.array([float(np.median(y)) for i in range(len(y))]).reshape(y.shape)\n",
    "answer1 = mserror(y.ravel(), y_pred.ravel())\n",
    "print answer1\n",
    "write_answer_to_file(answer1, '1.txt')"
   ]
  },
  {
   "cell_type": "markdown",
   "metadata": {},
   "source": [
    "**3. ���������� ������� *normal_equation*, ������� �� �������� �������� (�������� NumPy) *X* � *y* ��������� ������ ����� $w$ �������� ����������� ��������� �������� ���������.**"
   ]
  },
  {
   "cell_type": "code",
   "execution_count": 11,
   "metadata": {
    "collapsed": false
   },
   "outputs": [],
   "source": [
    "def normal_equation(X, y):\n",
    "    return np.dot(np.linalg.pinv(np.matrix(X)), np.matrix(y))\n",
    "    #return np.linalg.solve(np.dot(X.T, X), np.dot(X.T, y))"
   ]
  },
  {
   "cell_type": "code",
   "execution_count": 12,
   "metadata": {
    "collapsed": false
   },
   "outputs": [
    {
     "name": "stdout",
     "output_type": "stream",
     "text": [
      "[[ 14.0225    ]\n",
      " [  3.91925365]\n",
      " [  2.79206274]\n",
      " [ -0.02253861]]\n"
     ]
    }
   ],
   "source": [
    "norm_eq_weights = normal_equation(X, y)\n",
    "print norm_eq_weights"
   ]
  },
  {
   "cell_type": "markdown",
   "metadata": {},
   "source": [
    "**����� ������� ��������������� �������� ������� � ������, ���������� � ������� ����������� ���������, � ������ ������� ���������� � ������� �� ��, ����� � � �������? (�� ���� ��� ������� ��������� ���������������� ��������� TV, Radio � Newspaper). �������� ����� � ���� '2.txt'.**"
   ]
  },
  {
   "cell_type": "code",
   "execution_count": 13,
   "metadata": {
    "collapsed": false
   },
   "outputs": [
    {
     "name": "stdout",
     "output_type": "stream",
     "text": [
      "[[ 14.0225]]\n"
     ]
    }
   ],
   "source": [
    "answer2 = normal_equation(X, y) [0]\n",
    "print(answer2)\n",
    "write_answer_to_file(answer2, '2.txt')"
   ]
  },
  {
   "cell_type": "markdown",
   "metadata": {},
   "source": [
    "**4. �������� ������� *linear_prediction*, ������� ��������� �� ���� ������� *X* � ������ ����� �������� ������ *w*, � ���������� ������ ��������� � ���� �������� ���������� �������� ������� *X* � ������ *w*.**"
   ]
  },
  {
   "cell_type": "code",
   "execution_count": 14,
   "metadata": {
    "collapsed": false
   },
   "outputs": [],
   "source": [
    "def linear_prediction(X, w):\n",
    "    return np.dot(X,w)\n",
    "a = np.array(linear_prediction(X, normal_equation(X, y)))"
   ]
  },
  {
   "cell_type": "markdown",
   "metadata": {},
   "source": [
    "**������ ������������������ ������ �������� �������� Sales � ���� �������� ������ � ������, ���������� � ������� ����������� ���������? �������� ����� � ���� '3.txt'.**"
   ]
  },
  {
   "cell_type": "code",
   "execution_count": 15,
   "metadata": {
    "collapsed": false
   },
   "outputs": [
    {
     "name": "stdout",
     "output_type": "stream",
     "text": [
      "2.78412631451\n"
     ]
    }
   ],
   "source": [
    "answer3 = mserror(y[:,0], a[:,0])\n",
    "print(answer3)\n",
    "write_answer_to_file(answer3, '3.txt')"
   ]
  },
  {
   "cell_type": "markdown",
   "metadata": {},
   "source": [
    "**5. �������� ������� *stochastic_gradient_step*, ����������� ��� ��������������� ������������ ������ ��� �������� ���������. ������� ������ ��������� ������� *X*, ������� *y* � *w*, ����� *train_ind* - ������ ������� ��������� ������� (������ ������� *X*), �� �������� ��������� ��������� �����, � ����� ����� *$\\eta$* (eta) - ��� ������������ ������ (�� ��������� *eta*=0.01). ����������� ����� ������ ����������� �����. ���� ���������� ������� ����� ���� �������� ��� ������ � 3 ����������, �� �������� �������������� ��� ������ ����� ���������, ������ ��� �������.**"
   ]
  },
  {
   "cell_type": "code",
   "execution_count": 16,
   "metadata": {
    "collapsed": false
   },
   "outputs": [
    {
     "name": "stdout",
     "output_type": "stream",
     "text": [
      "[[ 14.0226576 ]\n",
      " [  3.91940651]\n",
      " [  2.79221743]\n",
      " [ -0.02225824]]\n"
     ]
    }
   ],
   "source": [
    "def stochastic_gradient_step(X, y, w, train_ind, eta=0.01):\n",
    "    X=np.array(X)\n",
    "    y=np.array(y)\n",
    "    w=np.array(w)\n",
    "    l = len(y)\n",
    "    \n",
    "    grad0 = (np.dot(X[train_ind],w)-y[train_ind])*2*X[train_ind,0]\n",
    "    grad1 = (np.dot(X[train_ind],w)-y[train_ind])*2*X[train_ind,1]\n",
    "    grad2 = (np.dot(X[train_ind],w)-y[train_ind])*2*X[train_ind,2]\n",
    "    grad3 = (np.dot(X[train_ind],w)-y[train_ind])*2*X[train_ind,3]\n",
    "    \n",
    "    return (w - eta / l * np.array([grad0, grad1, grad2, grad3]))\n",
    "print stochastic_gradient_step(X, y, normal_equation(X, y), 0, eta=0.01)"
   ]
  },
  {
   "cell_type": "markdown",
   "metadata": {},
   "source": [
    "**6. �������� ������� *stochastic_gradient_descent*, ����������� �������������� ����������� ����� ��� �������� ���������. ������� ��������� �� ���� ��������� ���������:**\n",
    "- X - �������, ��������������� ��������� �������\n",
    "- y - ������ �������� �������� ��������\n",
    "- w_init - ������ ��������� ����� ������\n",
    "- eta - ��� ������������ ������ (�� ��������� 0.01)\n",
    "- max_iter - ������������ ����� �������� ������������ ������ (�� ��������� 10000)\n",
    "- max_weight_dist - ������������ ��������� ���������� ����� ��������� ����� �� �������� ��������� ������������ ������,\n",
    "��� ������� �������� ���������� ������ (�� ��������� 1e-8)\n",
    "- seed - �����, ������������ ��� ����������������� ��������������� ��������������� ����� (�� ��������� 42)\n",
    "- verbose - ���� ������ ���������� (��������, ��� �������, �� ��������� False)\n",
    "\n",
    "**�� ������ �������� � ������ (������) ������ ������������ ������� �������� ������������������ ������. ������� ������ ���������� ������ ����� $w$, � ����� ������ (������) ������.**"
   ]
  },
  {
   "cell_type": "code",
   "execution_count": 59,
   "metadata": {
    "collapsed": false
   },
   "outputs": [
    {
     "data": {
      "text/plain": [
       "(array([[ 0.00273965],\n",
       "        [ 0.00257416],\n",
       "        [-0.00244372],\n",
       "        [-0.00137476]]), [223.71625000000003, 223.66538899863147])"
      ]
     },
     "execution_count": 59,
     "metadata": {},
     "output_type": "execute_result"
    }
   ],
   "source": [
    "def stochastic_gradient_descent(X, y, w_init, eta=1e-2, max_iter=1e4,\n",
    "                                min_weight_dist=1e-8, seed=42, verbose=False):\n",
    "    # �������������� ���������� ����� ��������� ����� �� ��������\n",
    "    # ��������� ������� ������. \n",
    "    weight_dist = np.inf\n",
    "    # �������������� ������ �����\n",
    "    w = np.array(w_init).reshape(4,1)\n",
    "    # ���� ����� ���������� ������ �� ������ ��������\n",
    "    errors = []\n",
    "    # ������� ��������\n",
    "    iter_num = 0\n",
    "    # ����� ��������� ��������������� ����� \n",
    "    # (����� �������, ������� ����� ������ ����), � ��� �����������������\n",
    "    # ���� ������������������ ��������������� ����� ���������� seed.\n",
    "    np.random.seed(seed)\n",
    "        \n",
    "    # �������� ����\n",
    "    while weight_dist > min_weight_dist and iter_num < max_iter:\n",
    "        # ��������� ��������������� \n",
    "        # ������ ������� ��������� �������\n",
    "        random_ind = np.random.randint(X.shape[0])\n",
    "        new_w = stochastic_gradient_step(X, y, w, random_ind, eta)\n",
    "        iter_num+=1\n",
    "        fr_cst = linear_prediction(X, w)\n",
    "        weight_dist = np.linalg.norm(new_w-w)\n",
    "        errors.append(mserror(y[:,0], fr_cst.flatten()))\n",
    "        w = new_w\n",
    "        #errors.append(mserror(y, linear_prediction(X, new_w)))\n",
    "        \n",
    "    return w, errors\n",
    "stochastic_gradient_descent(X=X,y=y, w_init=(np.zeros(4)), max_iter=2)"
   ]
  },
  {
   "cell_type": "markdown",
   "metadata": {},
   "source": [
    " **��������� $10^5$ �������� ��������������� ������������ ������. ������� ������ ��������� ����� *w_init*, ��������� �� �����. �������� ���������  *eta* � *seed* ������� �� ��������� �� ��������� (*eta*=0.01, *seed*=42 - ��� ����� ��� �������� �������).**"
   ]
  },
  {
   "cell_type": "code",
   "execution_count": 60,
   "metadata": {
    "collapsed": false
   },
   "outputs": [
    {
     "name": "stdout",
     "output_type": "stream",
     "text": [
      "Wall time: 26.9 s\n"
     ]
    }
   ],
   "source": [
    "%%time\n",
    "stoch_grad_desc_weights, stoch_errors_by_iter = stochastic_gradient_descent(X=X,y=y, w_init=(np.ones(4)*0), max_iter=1e5)"
   ]
  },
  {
   "cell_type": "markdown",
   "metadata": {},
   "source": [
    "**���������, ���� ����� ������ �� ������ 50 ��������� ��������������� ������������ ������. �����, ��� ������ �� ����������� ����������� �� ������ ��������.**"
   ]
  },
  {
   "cell_type": "code",
   "execution_count": 61,
   "metadata": {
    "collapsed": false
   },
   "outputs": [
    {
     "name": "stdout",
     "output_type": "stream",
     "text": [
      "Populating the interactive namespace from numpy and matplotlib\n"
     ]
    },
    {
     "data": {
      "text/plain": [
       "<matplotlib.text.Text at 0xc016f28>"
      ]
     },
     "execution_count": 61,
     "metadata": {},
     "output_type": "execute_result"
    },
    {
     "data": {
      "image/png": "[encoded data removed]",
      "text/plain": [
       "<matplotlib.figure.Figure at 0xbf54fd0>"
      ]
     },
     "metadata": {},
     "output_type": "display_data"
    }
   ],
   "source": [
    "%pylab inline\n",
    "plot(range(50), stoch_errors_by_iter[:50])\n",
    "xlabel('Iteration number')\n",
    "ylabel('MSE')"
   ]
  },
  {
   "cell_type": "markdown",
   "metadata": {},
   "source": [
    "**������ ��������� �� ����������� ������ �� ������ �������� ��� $10^5$ �������� ��������������� ������������ ������. �����, ��� �������� ��������.**"
   ]
  },
  {
   "cell_type": "code",
   "execution_count": 62,
   "metadata": {
    "collapsed": false
   },
   "outputs": [
    {
     "name": "stdout",
     "output_type": "stream",
     "text": [
      "Populating the interactive namespace from numpy and matplotlib\n"
     ]
    },
    {
     "data": {
      "text/plain": [
       "<matplotlib.text.Text at 0xb81c550>"
      ]
     },
     "execution_count": 62,
     "metadata": {},
     "output_type": "execute_result"
    },
    {
     "data": {
      "image/png": "[encoded data removed]",
      "text/plain": [
       "<matplotlib.figure.Figure at 0xbb3d470>"
      ]
     },
     "metadata": {},
     "output_type": "display_data"
    }
   ],
   "source": [
    "%pylab inline\n",
    "plot(range(len(stoch_errors_by_iter)), stoch_errors_by_iter)\n",
    "xlabel('Iteration number')\n",
    "ylabel('MSE')"
   ]
  },
  {
   "cell_type": "markdown",
   "metadata": {},
   "source": [
    "**��������� �� ������ �����, � �������� ������� �����.**"
   ]
  },
  {
   "cell_type": "code",
   "execution_count": 63,
   "metadata": {
    "collapsed": false
   },
   "outputs": [
    {
     "data": {
      "text/plain": [
       "array([[  1.40190566e+01],\n",
       "       [  3.91069256e+00],\n",
       "       [  2.78209808e+00],\n",
       "       [ -8.10462217e-03]])"
      ]
     },
     "execution_count": 63,
     "metadata": {},
     "output_type": "execute_result"
    }
   ],
   "source": [
    "stoch_grad_desc_weights"
   ]
  },
  {
   "cell_type": "markdown",
   "metadata": {},
   "source": [
    "**��������� �� ������������������ ������ �� ��������� ��������.**"
   ]
  },
  {
   "cell_type": "code",
   "execution_count": 64,
   "metadata": {
    "collapsed": false
   },
   "outputs": [
    {
     "data": {
      "text/plain": [
       "2.7844125883527595"
      ]
     },
     "execution_count": 64,
     "metadata": {},
     "output_type": "execute_result"
    }
   ],
   "source": [
    "stoch_errors_by_iter[-1]"
   ]
  },
  {
   "cell_type": "markdown",
   "metadata": {},
   "source": [
    "**������ ������������������ ������ �������� �������� Sales � ���� �������� ������ � ������, ���������� � ������� ������������ ������? �������� ����� � ���� '4.txt'.**"
   ]
  },
  {
   "cell_type": "code",
   "execution_count": 65,
   "metadata": {
    "collapsed": false
   },
   "outputs": [
    {
     "name": "stdout",
     "output_type": "stream",
     "text": [
      "2.78441258841\n"
     ]
    }
   ],
   "source": [
    "answer4 = mserror(y[:,0], linear_prediction(X, stoch_grad_desc_weights).flatten())\n",
    "print(answer4)\n",
    "write_answer_to_file(answer4, '4.txt')"
   ]
  },
  {
   "cell_type": "markdown",
   "metadata": {},
   "source": [
    "**�������� � ������� ����� ��������� �����, ���������� � ���� ����� �������. �������� ��������, ��� ������������ ����� �� ������ ��������� ������ ������ � �����. ������ ����� �������� ������������ ��������� Coursera. �� �������� ��� ������������ ����� �����������.**"
   ]
  }
 ],
 "metadata": {
  "anaconda-cloud": {},
  "kernelspec": {
   "display_name": "Python [conda root]",
   "language": "python",
   "name": "conda-root-py"
  },
  "language_info": {
   "codemirror_mode": {
    "name": "ipython",
    "version": 2
   },
   "file_extension": ".py",
   "mimetype": "text/x-python",
   "name": "python",
   "nbconvert_exporter": "python",
   "pygments_lexer": "ipython2",
   "version": "2.7.12"
  }
 },
 "nbformat": 4,
 "nbformat_minor": 0
}